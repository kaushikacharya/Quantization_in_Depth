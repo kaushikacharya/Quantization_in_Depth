{
 "cells": [
  {
   "cell_type": "markdown",
   "metadata": {},
   "source": [
    "# L4-B - Building your own Quantizer: Replace PyTorch layers with Quantized Layers\n",
    "\n",
    "In this lesson, you will learn about the quantization pipline using your own 8-bit quantizer."
   ]
  },
  {
   "cell_type": "markdown",
   "metadata": {},
   "source": [
    "Run the next cell to import all of the functions you have used before in the previous lesson(s) of `Building your own Quantizer` to follow along with the video."
   ]
  },
  {
   "cell_type": "code",
   "execution_count": 1,
   "metadata": {},
   "outputs": [],
   "source": [
    "import torch\n",
    "import torch.nn as nn\n",
    "\n",
    "from helper import W8A16LinearLayer"
   ]
  },
  {
   "cell_type": "markdown",
   "metadata": {},
   "source": [
    "## Step 2: Quantization Pipeline"
   ]
  },
  {
   "cell_type": "markdown",
   "metadata": {},
   "source": [
    "- Replace all of the `torch.nn.Linear` layers with the `W8A16LinearLayer` layer.\n",
    "- Call `quantize` on the linear layers using the original weights."
   ]
  },
  {
   "cell_type": "markdown",
   "metadata": {},
   "source": [
    "### 2.1 - Model In-place Linear Layer Replacement\n",
    "- Implement `replace_linear_with_target`"
   ]
  },
  {
   "cell_type": "code",
   "execution_count": 2,
   "metadata": {},
   "outputs": [],
   "source": [
    "def replace_linear_with_target(module, target_class, module_name_to_exclude):\n",
    "    for name, child in module.named_children():\n",
    "        if isinstance(child, nn.Linear) and not any([x==name for x in module_name_to_exclude]):\n",
    "            old_bias = child.bias\n",
    "            new_module = target_class(child.in_features,\n",
    "                                        child.out_features,\n",
    "                                        bias=old_bias is not None,\n",
    "                                        dtype=child.weight.dtype)\n",
    "            setattr(module, name, new_module)\n",
    "\n",
    "            if old_bias is not None:\n",
    "                getattr(module, name).bias = old_bias\n",
    "        else:\n",
    "            # Recursively call the function for nested modules\n",
    "            replace_linear_with_target(child, target_class, module_name_to_exclude)"
   ]
  },
  {
   "cell_type": "code",
   "execution_count": 3,
   "metadata": {},
   "outputs": [],
   "source": [
    "class DummyModel(torch.nn.Module):\n",
    "    def __init__(self):\n",
    "        super().__init__()\n",
    "        self.emb = torch.nn.Embedding(1, 1)\n",
    "        # Try with bias\n",
    "        self.linear_1 = nn.Linear(1, 1)\n",
    "        # Try without bias\n",
    "        self.linear_2 = nn.Linear(1, 1, bias=False)\n",
    "        # LM prediction head\n",
    "        self.lm_head = nn.Linear(1, 1, bias=False)"
   ]
  },
  {
   "cell_type": "code",
   "execution_count": 4,
   "metadata": {},
   "outputs": [],
   "source": [
    "model_1 = DummyModel()\n",
    "model_2 = DummyModel()"
   ]
  },
  {
   "cell_type": "code",
   "execution_count": 5,
   "metadata": {},
   "outputs": [
    {
     "data": {
      "text/plain": [
       "DummyModel(\n",
       "  (emb): Embedding(1, 1)\n",
       "  (linear_1): W8A16LinearLayer()\n",
       "  (linear_2): W8A16LinearLayer()\n",
       "  (lm_head): Linear(in_features=1, out_features=1, bias=False)\n",
       ")"
      ]
     },
     "execution_count": 5,
     "metadata": {},
     "output_type": "execute_result"
    }
   ],
   "source": [
    "replace_linear_with_target(module=model_1, target_class=W8A16LinearLayer, module_name_to_exclude=[\"lm_head\"])\n",
    "model_1"
   ]
  },
  {
   "cell_type": "code",
   "execution_count": 6,
   "metadata": {},
   "outputs": [
    {
     "data": {
      "text/plain": [
       "DummyModel(\n",
       "  (emb): Embedding(1, 1)\n",
       "  (linear_1): W8A16LinearLayer()\n",
       "  (linear_2): W8A16LinearLayer()\n",
       "  (lm_head): W8A16LinearLayer()\n",
       ")"
      ]
     },
     "execution_count": 6,
     "metadata": {},
     "output_type": "execute_result"
    }
   ],
   "source": [
    "replace_linear_with_target(module=model_2, target_class=W8A16LinearLayer, module_name_to_exclude=[])\n",
    "model_2"
   ]
  },
  {
   "cell_type": "markdown",
   "metadata": {},
   "source": [
    "### 2.2 - Linear Layer Replacement + Quantization\n",
    "- Modify the `replace_linear_with_target` function to also perform quantization.\n",
    "- Implement `replace_linear_with_target_and_quantize`."
   ]
  },
  {
   "cell_type": "code",
   "execution_count": 7,
   "metadata": {},
   "outputs": [],
   "source": [
    "def replace_linear_with_target_and_quantize(module, target_class, module_name_to_exclude):\n",
    "    for name, child in module.named_children():\n",
    "        if isinstance(child, nn.Linear) and not any([x==name for x in module_name_to_exclude]):\n",
    "            old_bias = child.bias\n",
    "            old_weight = child.weight\n",
    "            new_module = target_class(child.in_features,\n",
    "                                        child.out_features,\n",
    "                                        bias=old_bias is not None,\n",
    "                                        dtype=child.weight.dtype)\n",
    "            setattr(module, name, new_module)\n",
    "            getattr(module, name).quantize(old_weight)\n",
    "\n",
    "            if old_bias is not None:\n",
    "                getattr(module, name).bias = old_bias\n",
    "        else:\n",
    "            # Recursively call the function for nested modules\n",
    "            replace_linear_with_target_and_quantize(child, target_class, module_name_to_exclude)"
   ]
  },
  {
   "cell_type": "code",
   "execution_count": 8,
   "metadata": {},
   "outputs": [],
   "source": [
    "model_3 = DummyModel()"
   ]
  },
  {
   "cell_type": "code",
   "execution_count": 9,
   "metadata": {},
   "outputs": [
    {
     "data": {
      "text/plain": [
       "DummyModel(\n",
       "  (emb): Embedding(1, 1)\n",
       "  (linear_1): W8A16LinearLayer()\n",
       "  (linear_2): W8A16LinearLayer()\n",
       "  (lm_head): Linear(in_features=1, out_features=1, bias=False)\n",
       ")"
      ]
     },
     "execution_count": 9,
     "metadata": {},
     "output_type": "execute_result"
    }
   ],
   "source": [
    "replace_linear_with_target_and_quantize(module=model_3, target_class=W8A16LinearLayer, module_name_to_exclude=[\"lm_head\"])\n",
    "model_3"
   ]
  }
 ],
 "metadata": {
  "kernelspec": {
   "display_name": "py3_quantization_in_depth_course",
   "language": "python",
   "name": "python3"
  },
  "language_info": {
   "codemirror_mode": {
    "name": "ipython",
    "version": 3
   },
   "file_extension": ".py",
   "mimetype": "text/x-python",
   "name": "python",
   "nbconvert_exporter": "python",
   "pygments_lexer": "ipython3",
   "version": "3.9.18"
  }
 },
 "nbformat": 4,
 "nbformat_minor": 2
}
